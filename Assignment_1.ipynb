{
 "cells": [
  {
   "cell_type": "code",
   "execution_count": 3,
   "id": "a6632ed0",
   "metadata": {},
   "outputs": [
    {
     "name": "stdout",
     "output_type": "stream",
     "text": [
      "Twinkle, twinkle, little star,\n",
      "\tHow I wonder what you are!\n",
      "\t\tUp above the world so high,\n",
      "\t\tLike a diamond in the sky.\n",
      "Twinkle, twinkle, little star,\n",
      "\tHow I wonder what you are\n"
     ]
    }
   ],
   "source": [
    "print(\"Twinkle, twinkle, little star,\\n\\tHow I wonder what you are!\\n\\t\\tUp above the world so high,\\n\\t\\tLike a diamond in the sky.\\nTwinkle, twinkle, little star,\\n\\tHow I wonder what you are\");"
   ]
  },
  {
   "cell_type": "code",
   "execution_count": 5,
   "id": "38b7e4f7",
   "metadata": {},
   "outputs": [
    {
     "name": "stdout",
     "output_type": "stream",
     "text": [
      "3.9.7 (default, Sep 16 2021, 16:59:28) [MSC v.1916 64 bit (AMD64)]\n"
     ]
    }
   ],
   "source": [
    "import sys;\n",
    "print(sys.version);"
   ]
  },
  {
   "cell_type": "code",
   "execution_count": 15,
   "id": "c28ea566",
   "metadata": {},
   "outputs": [
    {
     "name": "stdout",
     "output_type": "stream",
     "text": [
      "Current date : \n",
      "30-12-2021\n",
      "Current Time : \n",
      "11:49:43\n"
     ]
    }
   ],
   "source": [
    "import datetime;\n",
    "now = datetime.datetime.now();\n",
    "print (\"Current date : \");\n",
    "print (now.strftime(\"%d-%m-%Y\"));\n",
    "print (\"Current Time : \");\n",
    "print (now.strftime(\"%H:%M:%S\"));"
   ]
  },
  {
   "cell_type": "code",
   "execution_count": 23,
   "id": "282ab289",
   "metadata": {},
   "outputs": [
    {
     "name": "stdout",
     "output_type": "stream",
     "text": [
      "Enter the radius : 2\n",
      "Area of the circle :  12.56636\n"
     ]
    }
   ],
   "source": [
    "r = int(input(\"Enter the radius : \"));\n",
    "area = 3.14159*(r*r);\n",
    "print(\"Area of the circle : \",circumference);"
   ]
  },
  {
   "cell_type": "code",
   "execution_count": 19,
   "id": "f300bb2e",
   "metadata": {},
   "outputs": [
    {
     "name": "stdout",
     "output_type": "stream",
     "text": [
      "Enter your first name : Farhan\n",
      "Enter your last name : Laeeq\n",
      "Laeeq   Farhan\n"
     ]
    }
   ],
   "source": [
    "first = input(\"Enter your first name : \");\n",
    "last = input(\"Enter your last name : \");\n",
    "print(last, \" \", first);"
   ]
  },
  {
   "cell_type": "code",
   "execution_count": 22,
   "id": "d8b07fe3",
   "metadata": {},
   "outputs": [
    {
     "name": "stdout",
     "output_type": "stream",
     "text": [
      "Enter a number : 4\n",
      "Enter a number : 5\n",
      "9\n"
     ]
    }
   ],
   "source": [
    "x = input(\"Enter a number : \");\n",
    "y = input(\"Enter a number : \");\n",
    "print(int(x) + int(y));"
   ]
  },
  {
   "cell_type": "code",
   "execution_count": null,
   "id": "022d75c8",
   "metadata": {},
   "outputs": [],
   "source": []
  }
 ],
 "metadata": {
  "kernelspec": {
   "display_name": "Python 3 (ipykernel)",
   "language": "python",
   "name": "python3"
  },
  "language_info": {
   "codemirror_mode": {
    "name": "ipython",
    "version": 3
   },
   "file_extension": ".py",
   "mimetype": "text/x-python",
   "name": "python",
   "nbconvert_exporter": "python",
   "pygments_lexer": "ipython3",
   "version": "3.9.7"
  }
 },
 "nbformat": 4,
 "nbformat_minor": 5
}
